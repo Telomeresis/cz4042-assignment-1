{
 "cells": [
  {
   "cell_type": "code",
   "execution_count": 1,
   "metadata": {
    "colab": {},
    "colab_type": "code",
    "id": "H8kGdxaxbRgu"
   },
   "outputs": [],
   "source": [
    "import tensorflow as tf\n",
    "import numpy as np\n",
    "import pylab as plt\n",
    "import pandas as pd\n",
    "\n",
    "tf.compat.v1.logging.set_verbosity(tf.compat.v1.logging.ERROR)"
   ]
  },
  {
   "cell_type": "code",
   "execution_count": 2,
   "metadata": {},
   "outputs": [
    {
     "name": "stdout",
     "output_type": "stream",
     "text": [
      "1 Physical GPUs, 1 Logical GPUs\n"
     ]
    }
   ],
   "source": [
    "# Set compatibility mode\n",
    "import tensorflow.compat.v1 as tf\n",
    "tf.disable_v2_behavior()\n",
    "\n",
    "# Set pandas display option\n",
    "pd.options.display.float_format = \"{:,.4f}\".format \n",
    "\n",
    "# RTX ON\n",
    "gpus = tf.config.experimental.list_physical_devices('GPU')\n",
    "if gpus:\n",
    "    try:\n",
    "        # Currently, memory growth needs to be the same across GPUs\n",
    "        for gpu in gpus:\n",
    "            tf.config.experimental.set_memory_growth(gpu, True)\n",
    "        logical_gpus = tf.config.experimental.list_logical_devices('GPU')\n",
    "        print(len(gpus), \"Physical GPUs,\", len(logical_gpus), \"Logical GPUs\")\n",
    "    except RuntimeError as e:\n",
    "        # Memory growth must be set before GPUs have been initialized\n",
    "        print(e)"
   ]
  },
  {
   "cell_type": "code",
   "execution_count": 3,
   "metadata": {
    "colab": {},
    "colab_type": "code",
    "id": "nR4VbYw0bs0a"
   },
   "outputs": [],
   "source": [
    "# Scale data\n",
    "def scale(X):\n",
    "    return (X-np.mean(X,axis=0)) / np.std(X,axis=0)"
   ]
  },
  {
   "cell_type": "code",
   "execution_count": 4,
   "metadata": {
    "colab": {},
    "colab_type": "code",
    "id": "QHE-ff7ybvQR"
   },
   "outputs": [],
   "source": [
    "NUM_FEATURES = 5\n",
    "\n",
    "hidden_neurons = 50\n",
    "learning_rate = 10**-3\n",
    "beta = 10**-3\n",
    "batch_size = 8\n",
    "prob = 0.8\n",
    "\n",
    "epochs = 36511\n",
    "seed = 42\n",
    "np.random.seed(seed)"
   ]
  },
  {
   "cell_type": "code",
   "execution_count": 5,
   "metadata": {
    "colab": {},
    "colab_type": "code",
    "id": "dvkn04yAb833"
   },
   "outputs": [],
   "source": [
    "# Read data\n",
    "data_input = np.genfromtxt('admission_predict.csv', delimiter= ',')\n",
    "\n",
    "# Excluding GRE Score and CGPA after performing RFE previously\n",
    "data_X = data_input[1:,[2,3,4,5,7]] \n",
    "data_Y = data_input[1:,-1] \n",
    "\n",
    "# Scale X inputs\n",
    "dataX = scale(data_X)\n",
    "dataY = data_Y.reshape(data_Y.shape[0],1)\n",
    "\n",
    "# Define the size of training set and data set\n",
    "dataset_size = len(dataX)\n",
    "train_size = int(0.7 * dataset_size)\n",
    "test_size = dataset_size - train_size\n",
    "\n",
    "# Shuffle the data before splitting to training and testing set\n",
    "idx = np.arange(dataset_size)\n",
    "np.random.shuffle(idx)\n",
    "dataX = dataX[idx]\n",
    "dataY = dataY[idx]\n",
    "\n",
    "# Split the training and testing set\n",
    "trainX = dataX[:train_size]\n",
    "trainY = dataY[:train_size]\n",
    "\n",
    "testX = dataX[train_size:]\n",
    "testY = dataY[train_size:]"
   ]
  },
  {
   "cell_type": "code",
   "execution_count": 6,
   "metadata": {
    "colab": {},
    "colab_type": "code",
    "id": "NNW7rw-H_5PJ"
   },
   "outputs": [],
   "source": [
    "# Create the model\n",
    "x = tf.placeholder(tf.float32, [None, NUM_FEATURES])\n",
    "y_ = tf.placeholder(tf.float32, [None, 1])\n",
    "keep_prob = tf.placeholder(tf.float32)\n",
    "\n",
    "# Build the graph for the neural network\n",
    "\n",
    "# Hidden layer with relu activation\n",
    "w1 = tf.Variable(tf.truncated_normal([NUM_FEATURES, hidden_neurons], stddev=1.0 / np.sqrt(NUM_FEATURES), dtype=tf.float32), name='weights')\n",
    "b1 = tf.Variable(tf.zeros([hidden_neurons]), dtype=tf.float32, name='biases')\n",
    "h1 = tf.nn.relu(tf.matmul(x, w1) + b1)\n",
    "h1_dropout = tf.nn.dropout(h1, keep_prob) \n",
    "\n",
    "# Linear output layer\n",
    "w2 = tf.Variable(tf.truncated_normal([hidden_neurons, 1], stddev=1.0 / np.sqrt(hidden_neurons), dtype=tf.float32), name='weights')\n",
    "b2 = tf.Variable(tf.zeros([1]),dtype=tf.float32, name='biases')\n",
    "y = tf.matmul(h1_dropout, w2) + b2 \n",
    "\n",
    "# Regularization\n",
    "regularization = tf.nn.l2_loss(w1) + tf.nn.l2_loss(w2) \n",
    "\n",
    "# Regularized loss\n",
    "loss = tf.reduce_mean(tf.square(y_ - y) + beta*regularization)\n",
    "\n",
    "# Define the optimiser\n",
    "optimizer = tf.train.GradientDescentOptimizer(learning_rate)\n",
    "\n",
    "# Create a variable to track the global step\n",
    "global_step = tf.Variable(0, name='global_step', trainable=False)\n",
    "\n",
    "# Use the optimizer to apply the gradients that minimize the loss\n",
    "# (and also increment the global step counter) as a single training step.\n",
    "train_op = optimizer.minimize(loss, global_step=global_step)"
   ]
  },
  {
   "cell_type": "markdown",
   "metadata": {
    "colab_type": "text",
    "id": "OfFtMnnc4tF6"
   },
   "source": [
    "\n",
    "**Evaluating the performance of the 3-layer neural network without dropout:**\n",
    "\n",
    "\n",
    "We first try the to evaluate the performance of the 3 layers neural network without dropout.\n",
    "\n",
    "* This can be done by setting the *keep_prob* during training to be **1.0**.\n",
    "\n",
    "* The *keep_prob* during testing will always be **1.0** irregardless of whether the network is with or without dropout."
   ]
  },
  {
   "cell_type": "code",
   "execution_count": 7,
   "metadata": {
    "colab": {
     "base_uri": "https://localhost:8080/",
     "height": 408
    },
    "colab_type": "code",
    "executionInfo": {
     "elapsed": 1039428,
     "status": "ok",
     "timestamp": 1571423268562,
     "user": {
      "displayName": "Telomeresis",
      "photoUrl": "https://lh3.googleusercontent.com/ogw/ADGmqu8HiAoyYChS5ur3Zu-_rCkgwVmrmwvxVYOrgOJP=s83-c-mo",
      "userId": "13216546334561796710"
     },
     "user_tz": -480
    },
    "id": "nZIbc09r8eai",
    "outputId": "aa882aa3-3de7-4765-e17d-5d0eab16390b"
   },
   "outputs": [
    {
     "name": "stdout",
     "output_type": "stream",
     "text": [
      "[iteration 1]\n",
      "test error: 0.44386354088783264\n",
      "\n",
      "[iteration 5000]\n",
      "test error: 0.020471680909395218\n",
      "\n",
      "[iteration 10000]\n",
      "test error: 0.016425615176558495\n",
      "\n",
      "[iteration 15000]\n",
      "test error: 0.013633178547024727\n",
      "\n",
      "[iteration 20000]\n",
      "test error: 0.011790136806666851\n",
      "\n",
      "[iteration 25000]\n",
      "test error: 0.010476426221430302\n",
      "\n",
      "[iteration 30000]\n",
      "test error: 0.009532850235700607\n",
      "\n",
      "[iteration 35000]\n",
      "test error: 0.008862641640007496\n",
      "\n"
     ]
    }
   ],
   "source": [
    "N = train_size\n",
    "idx_train = np.arange(N)\n",
    "\n",
    "# Run the session\n",
    "with tf.Session() as sess:\n",
    "    sess.run(tf.global_variables_initializer())\n",
    "\n",
    "    test_error_nodropout =[]\n",
    "  \n",
    "    for i in range(epochs):\n",
    "        # Shuffle the training data\n",
    "        np.random.shuffle(idx_train) \n",
    "        trainX = trainX[idx_train]\n",
    "        trainY = trainY[idx_train]\n",
    "    \n",
    "        for start, end in zip(range(0, N, batch_size), range(batch_size, N, batch_size)):\n",
    "            train_op.run(feed_dict={x: trainX[start:end], y_: trainY[start:end], keep_prob:1.0})\n",
    "            \n",
    "        test_error_nodropout.append(loss.eval(feed_dict={x: testX, y_: testY, keep_prob: 1.0}))\n",
    "\n",
    "        if i == 0 or (i+1)%5000 == 0:\n",
    "            print('[iteration {}]'.format(i+1))    \n",
    "            print('test error: {}'.format(test_error_nodropout[i]))\n",
    "            print()"
   ]
  },
  {
   "cell_type": "code",
   "execution_count": 8,
   "metadata": {
    "colab": {
     "base_uri": "https://localhost:8080/",
     "height": 295
    },
    "colab_type": "code",
    "executionInfo": {
     "elapsed": 1039839,
     "status": "ok",
     "timestamp": 1571423268998,
     "user": {
      "displayName": "Telomeresis",
      "photoUrl": "https://lh3.googleusercontent.com/ogw/ADGmqu8HiAoyYChS5ur3Zu-_rCkgwVmrmwvxVYOrgOJP=s83-c-mo",
      "userId": "13216546334561796710"
     },
     "user_tz": -480
    },
    "id": "VLdczt6hEFEE",
    "outputId": "e6003171-d1a6-42f3-b63c-2cf963faaefd"
   },
   "outputs": [
    {
     "data": {
      "image/png": "[encoded data removed]",
      "text/plain": [
       "<Figure size 432x288 with 1 Axes>"
      ]
     },
     "metadata": {
      "needs_background": "light"
     },
     "output_type": "display_data"
    }
   ],
   "source": [
    "# Plot learning curves\n",
    "plt.figure()\n",
    "plt.title('errors vs. epochs')\n",
    "plt.plot(range(epochs), test_error_nodropout,'r',label='test')\n",
    "plt.xlabel('epochs')\n",
    "plt.ylabel('errors')\n",
    "plt.xlim(0,15000)\n",
    "plt.ylim(0,0.1)\n",
    "plt.legend(loc='best')\n",
    "\n",
    "\n",
    "plt.show()"
   ]
  },
  {
   "cell_type": "markdown",
   "metadata": {
    "colab_type": "text",
    "id": "37nIn6lQ5REL"
   },
   "source": [
    "\n",
    "**Evaluating the performance of the 3-layer neural network with dropout:**\n",
    "\n",
    "\n",
    "To evaluate the performance of the 3 layers neural network with dropout:\n",
    "\n",
    "* Simply change *keep_prob* during training to be **prob**.\n",
    "\n",
    "* The *keep_prob* during testing will always be **1.0** irregardless of whether the network is with or without dropout."
   ]
  },
  {
   "cell_type": "code",
   "execution_count": 9,
   "metadata": {
    "colab": {
     "base_uri": "https://localhost:8080/",
     "height": 408
    },
    "colab_type": "code",
    "executionInfo": {
     "elapsed": 2057069,
     "status": "ok",
     "timestamp": 1571424286239,
     "user": {
      "displayName": "Telomeresis",
      "photoUrl": "https://lh3.googleusercontent.com/ogw/ADGmqu8HiAoyYChS5ur3Zu-_rCkgwVmrmwvxVYOrgOJP=s83-c-mo",
      "userId": "13216546334561796710"
     },
     "user_tz": -480
    },
    "id": "MyK8iEw06I_k",
    "outputId": "27dcccfe-53a9-4455-ba61-7ab960887570"
   },
   "outputs": [
    {
     "name": "stdout",
     "output_type": "stream",
     "text": [
      "[iteration 1]\n",
      "test error: 0.4673745334148407\n",
      "\n",
      "[iteration 5000]\n",
      "test error: 0.019885556772351265\n",
      "\n",
      "[iteration 10000]\n",
      "test error: 0.01571677252650261\n",
      "\n",
      "[iteration 15000]\n",
      "test error: 0.012761224992573261\n",
      "\n",
      "[iteration 20000]\n",
      "test error: 0.010652778670191765\n",
      "\n",
      "[iteration 25000]\n",
      "test error: 0.00915524736046791\n",
      "\n",
      "[iteration 30000]\n",
      "test error: 0.008120888844132423\n",
      "\n",
      "[iteration 35000]\n",
      "test error: 0.007391864433884621\n",
      "\n"
     ]
    }
   ],
   "source": [
    "N = train_size\n",
    "idx_train = np.arange(N)\n",
    "\n",
    "# Run the session\n",
    "with tf.Session() as sess:\n",
    "    sess.run(tf.global_variables_initializer())\n",
    "\n",
    "    test_error_dropout =[]\n",
    "\n",
    "    for i in range(epochs):\n",
    "        # Shuffle the training data\n",
    "        np.random.shuffle(idx_train) \n",
    "        trainX = trainX[idx_train]\n",
    "        trainY = trainY[idx_train]\n",
    "    \n",
    "        for start, end in zip(range(0, N, batch_size), range(batch_size, N, batch_size)):\n",
    "            train_op.run(feed_dict={x: trainX[start:end], y_: trainY[start:end], keep_prob:prob})\n",
    "    \n",
    "        test_error_dropout.append(loss.eval(feed_dict={x: testX, y_: testY, keep_prob: 1.0}))\n",
    "\n",
    "        if i == 0 or (i+1)%5000 == 0:\n",
    "            print('[iteration {}]'.format(i+1))    \n",
    "            print('test error: {}'.format(test_error_dropout[i]))\n",
    "            print()"
   ]
  },
  {
   "cell_type": "code",
   "execution_count": 10,
   "metadata": {
    "colab": {
     "base_uri": "https://localhost:8080/",
     "height": 295
    },
    "colab_type": "code",
    "executionInfo": {
     "elapsed": 2057067,
     "status": "ok",
     "timestamp": 1571424286247,
     "user": {
      "displayName": "Telomeresis",
      "photoUrl": "https://lh3.googleusercontent.com/ogw/ADGmqu8HiAoyYChS5ur3Zu-_rCkgwVmrmwvxVYOrgOJP=s83-c-mo",
      "userId": "13216546334561796710"
     },
     "user_tz": -480
    },
    "id": "TqcwuK7s6JKn",
    "outputId": "5f22e79f-44aa-4fca-cf8f-25aac10df90c"
   },
   "outputs": [
    {
     "data": {
      "image/png": "[encoded data removed]",
      "text/plain": [
       "<Figure size 432x288 with 1 Axes>"
      ]
     },
     "metadata": {
      "needs_background": "light"
     },
     "output_type": "display_data"
    }
   ],
   "source": [
    "# Plot learning curves\n",
    "plt.figure()\n",
    "plt.title('errors vs. epochs')\n",
    "plt.plot(range(epochs), test_error_dropout,'r',label='test')\n",
    "plt.xlabel('epochs')\n",
    "plt.ylabel('errors')\n",
    "plt.xlim(0,15000)\n",
    "plt.ylim(0,0.1)\n",
    "plt.legend(loc='best')\n",
    "\n",
    "plt.show()"
   ]
  },
  {
   "cell_type": "code",
   "execution_count": 11,
   "metadata": {
    "colab": {},
    "colab_type": "code",
    "id": "QvUZf5MBUzgJ"
   },
   "outputs": [],
   "source": [
    "test_error_no_dO = np.array(test_error_nodropout)\n",
    "np.save('3 layers without dropout',test_error_no_dO)\n",
    "\n",
    "test_error_w_dO = np.array(test_error_dropout)\n",
    "np.save('3 layers with dropout',test_error_w_dO)"
   ]
  }
 ],
 "metadata": {
  "accelerator": "TPU",
  "colab": {
   "collapsed_sections": [],
   "name": "Part_B_Q3_3-layer.ipynb",
   "provenance": []
  },
  "kernelspec": {
   "display_name": "Python 3",
   "language": "python",
   "name": "python3"
  },
  "language_info": {
   "codemirror_mode": {
    "name": "ipython",
    "version": 3
   },
   "file_extension": ".py",
   "mimetype": "text/x-python",
   "name": "python",
   "nbconvert_exporter": "python",
   "pygments_lexer": "ipython3",
   "version": "3.7.9"
  }
 },
 "nbformat": 4,
 "nbformat_minor": 1
}
