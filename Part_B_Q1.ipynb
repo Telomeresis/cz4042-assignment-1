{
 "cells": [
  {
   "cell_type": "code",
   "execution_count": 1,
   "metadata": {
    "colab": {},
    "colab_type": "code",
    "id": "H8kGdxaxbRgu"
   },
   "outputs": [],
   "source": [
    "import tensorflow as tf\n",
    "import numpy as np\n",
    "import pylab as plt\n",
    "import pandas as pd\n",
    "\n",
    "tf.compat.v1.logging.set_verbosity(tf.compat.v1.logging.ERROR)"
   ]
  },
  {
   "cell_type": "code",
   "execution_count": 2,
   "metadata": {},
   "outputs": [
    {
     "name": "stdout",
     "output_type": "stream",
     "text": [
      "1 Physical GPUs, 1 Logical GPUs\n"
     ]
    }
   ],
   "source": [
    "# Set compatibility mode\n",
    "import tensorflow.compat.v1 as tf\n",
    "tf.disable_v2_behavior()\n",
    "\n",
    "# Set pandas display option\n",
    "pd.options.display.float_format = \"{:,.4f}\".format \n",
    "\n",
    "# RTX ON\n",
    "gpus = tf.config.experimental.list_physical_devices('GPU')\n",
    "if gpus:\n",
    "    try:\n",
    "        # Currently, memory growth needs to be the same across GPUs\n",
    "        for gpu in gpus:\n",
    "            tf.config.experimental.set_memory_growth(gpu, True)\n",
    "        logical_gpus = tf.config.experimental.list_logical_devices('GPU')\n",
    "        print(len(gpus), \"Physical GPUs,\", len(logical_gpus), \"Logical GPUs\")\n",
    "    except RuntimeError as e:\n",
    "        # Memory growth must be set before GPUs have been initialized\n",
    "        print(e)"
   ]
  },
  {
   "cell_type": "code",
   "execution_count": 3,
   "metadata": {
    "colab": {},
    "colab_type": "code",
    "id": "nR4VbYw0bs0a"
   },
   "outputs": [],
   "source": [
    "# Scale data\n",
    "def scale(X):\n",
    "    return (X-np.mean(X,axis=0)) / np.std(X,axis=0)"
   ]
  },
  {
   "cell_type": "code",
   "execution_count": 4,
   "metadata": {
    "colab": {},
    "colab_type": "code",
    "id": "QHE-ff7ybvQR"
   },
   "outputs": [],
   "source": [
    "NUM_FEATURES = 7\n",
    "\n",
    "hidden_neurons = 10\n",
    "learning_rate = 10**-3\n",
    "beta = 10**-3\n",
    "batch_size = 8\n",
    "\n",
    "epochs = 150000\n",
    "seed = 42\n",
    "np.random.seed(seed)"
   ]
  },
  {
   "cell_type": "code",
   "execution_count": 5,
   "metadata": {
    "colab": {},
    "colab_type": "code",
    "id": "dvkn04yAb833"
   },
   "outputs": [],
   "source": [
    "# Read data\n",
    "data_input = np.genfromtxt('admission_predict.csv', delimiter= ',')\n",
    "data_X, data_Y = data_input[1:,1:8], data_input[1:,-1]\n",
    "# Scale X inputs\n",
    "dataX = scale(data_X)\n",
    "dataY = data_Y.reshape(data_Y.shape[0],1)\n",
    "\n",
    "# Define the size of training set and data set\n",
    "dataset_size = len(dataX)\n",
    "train_size = int(0.7 * dataset_size)\n",
    "test_size = dataset_size - train_size\n",
    "\n",
    "# Shuffle the data before splitting to training and testing set\n",
    "idx = np.arange(dataset_size)\n",
    "np.random.shuffle(idx)\n",
    "dataX = dataX[idx]\n",
    "dataY = dataY[idx]\n",
    "\n",
    "# Split the training and testing set\n",
    "trainX = dataX[:train_size]\n",
    "trainY = dataY[:train_size]\n",
    "\n",
    "testX = dataX[train_size:]\n",
    "testY = dataY[train_size:]"
   ]
  },
  {
   "cell_type": "code",
   "execution_count": 6,
   "metadata": {
    "colab": {},
    "colab_type": "code",
    "id": "NNW7rw-H_5PJ"
   },
   "outputs": [],
   "source": [
    "# Create the model\n",
    "x = tf.placeholder(tf.float32, [None, NUM_FEATURES])\n",
    "y_ = tf.placeholder(tf.float32, [None, 1])\n",
    "\n",
    "# Build the graph for the neural network\n",
    "# Hidden layer with relu activation\n",
    "w1 = tf.Variable(tf.truncated_normal([NUM_FEATURES, hidden_neurons], stddev=1.0 / np.sqrt(NUM_FEATURES), dtype=tf.float32), name='weights')\n",
    "b1 = tf.Variable(tf.zeros([hidden_neurons]), dtype=tf.float32, name='biases')\n",
    "h1 = tf.nn.relu(tf.matmul(x, w1) + b1)\n",
    "\n",
    "# Linear output layer\n",
    "w2 = tf.Variable(tf.truncated_normal([hidden_neurons, 1], stddev=1.0 / np.sqrt(hidden_neurons), dtype=tf.float32), name='weights')\n",
    "b2 = tf.Variable(tf.zeros([1]),dtype=tf.float32, name='biases')\n",
    "y = tf.matmul(h1, w2) + b2  "
   ]
  },
  {
   "cell_type": "code",
   "execution_count": 7,
   "metadata": {
    "colab": {},
    "colab_type": "code",
    "id": "B8SAOiZ6qtWL"
   },
   "outputs": [],
   "source": [
    "# Regularization\n",
    "regularization = tf.nn.l2_loss(w1) + tf.nn.l2_loss(w2)\n",
    "\n",
    "# Regularized loss\n",
    "loss = tf.reduce_mean(tf.square(y_ - y) + beta*regularization)"
   ]
  },
  {
   "cell_type": "code",
   "execution_count": 8,
   "metadata": {
    "colab": {},
    "colab_type": "code",
    "id": "5R1SpUZX7EDU"
   },
   "outputs": [],
   "source": [
    "# Define the optimiser\n",
    "optimizer = tf.train.GradientDescentOptimizer(learning_rate)\n",
    "\n",
    "# Create a variable to track the global step\n",
    "global_step = tf.Variable(0, name='global_step', trainable=False)\n",
    "\n",
    "# Use the optimizer to apply the gradients that minimize the loss\n",
    "# (and also increment the global step counter) as a single training step.\n",
    "train_op = optimizer.minimize(loss, global_step=global_step)"
   ]
  },
  {
   "cell_type": "code",
   "execution_count": 9,
   "metadata": {
    "colab": {
     "base_uri": "https://localhost:8080/",
     "height": 1000
    },
    "colab_type": "code",
    "executionInfo": {
     "elapsed": 1148069,
     "status": "ok",
     "timestamp": 1571306277509,
     "user": {
      "displayName": "Telomeresis",
      "photoUrl": "https://lh3.googleusercontent.com/ogw/ADGmqu8HiAoyYChS5ur3Zu-_rCkgwVmrmwvxVYOrgOJP=s83-c-mo",
      "userId": "13216546334561796710"
     },
     "user_tz": -480
    },
    "id": "nZIbc09r8eai",
    "outputId": "1defe89b-4128-4f16-c8c9-7eca1aebb658",
    "scrolled": true
   },
   "outputs": [
    {
     "name": "stdout",
     "output_type": "stream",
     "text": [
      "[iteration 1]\n",
      "train error:  1\n",
      "test error:   1\n",
      "\n",
      "[iteration 5000]\n",
      "train error:  5000\n",
      "test error:   5000\n",
      "\n",
      "[iteration 10000]\n",
      "train error:  10000\n",
      "test error:   10000\n",
      "\n",
      "[iteration 15000]\n",
      "train error:  15000\n",
      "test error:   15000\n",
      "\n",
      "[iteration 20000]\n",
      "train error:  20000\n",
      "test error:   20000\n",
      "\n",
      "[iteration 25000]\n",
      "train error:  25000\n",
      "test error:   25000\n",
      "\n",
      "[iteration 30000]\n",
      "train error:  30000\n",
      "test error:   30000\n",
      "\n",
      "[iteration 35000]\n",
      "train error:  35000\n",
      "test error:   35000\n",
      "\n",
      "[iteration 40000]\n",
      "train error:  40000\n",
      "test error:   40000\n",
      "\n",
      "[iter 45000]\n",
      "train error:  45000\n",
      "test error:   45000\n",
      "\n",
      "[iter 50000]\n",
      "train error:  50000\n",
      "test error:   50000\n",
      "\n",
      "[iteration 55000]\n",
      "train error:  55000\n",
      "test error:   55000\n",
      "\n",
      "[iteration 60000]\n",
      "train error:  60000\n",
      "test error:   60000\n",
      "\n",
      "[iteration 65000]\n",
      "train error:  65000\n",
      "test error:   65000\n",
      "\n",
      "[iteration 70000]\n",
      "train error:  70000\n",
      "test error:   70000\n",
      "\n",
      "[iteration 75000]\n",
      "train error:  75000\n",
      "test error:   75000\n",
      "\n",
      "[iteration 80000]\n",
      "train error:  80000\n",
      "test error:   80000\n",
      "\n",
      "[iteration 85000]\n",
      "train error:  85000\n",
      "test error:   85000\n",
      "\n",
      "[iteration 90000]\n",
      "train error:  90000\n",
      "test error:   90000\n",
      "\n",
      "[iteration 95000]\n",
      "train error:  95000\n",
      "test error:   95000\n",
      "\n",
      "[iteration 100000]\n",
      "train error:  100000\n",
      "test error:   100000\n",
      "\n",
      "[iteration 105000]\n",
      "train error:  105000\n",
      "test error:   105000\n",
      "\n",
      "[iteration 110000]\n",
      "train error:  110000\n",
      "test error:   110000\n",
      "\n",
      "[iteration 115000]\n",
      "train error:  115000\n",
      "test error:   115000\n",
      "\n",
      "[iteration 120000]\n",
      "train error:  120000\n",
      "test error:   120000\n",
      "\n",
      "[iteration 125000]\n",
      "train error:  125000\n",
      "test error:   125000\n",
      "\n",
      "[iteration 130000]\n",
      "train error:  130000\n",
      "test error:   130000\n",
      "\n",
      "[iteration 135000]\n",
      "train error:  135000\n",
      "test error:   135000\n",
      "\n",
      "[iteration 140000]\n",
      "train error:  140000\n",
      "test error:   140000\n",
      "\n",
      "[iteration 145000]\n",
      "train error:  145000\n",
      "test error:   145000\n",
      "\n",
      "[iteration 150000]\n",
      "train error:  150000\n",
      "test error:   150000\n",
      "\n"
     ]
    }
   ],
   "source": [
    "N = train_size\n",
    "idx_train = np.arange(N)\n",
    "\n",
    "# Run the session\n",
    "with tf.Session() as sess:\n",
    "    sess.run(tf.global_variables_initializer())\n",
    "\n",
    "    train_error =[]\n",
    "    test_error =[]\n",
    "  \n",
    "    for i in range(epochs):\n",
    "        # Shuffle the training data\n",
    "        np.random.shuffle(idx_train) \n",
    "        trainX = trainX[idx_train]\n",
    "        trainY = trainY[idx_train]\n",
    "    \n",
    "        for start, end in zip(range(0, N, batch_size), range(batch_size, N, batch_size)):\n",
    "            train_op.run(feed_dict={x: trainX[start:end], y_: trainY[start:end]})\n",
    "\n",
    "        train_error.append(loss.eval(feed_dict={x: trainX, y_: trainY}))\n",
    "        test_error.append(loss.eval(feed_dict={x: testX, y_: testY}))\n",
    "\n",
    "        if i == 0 or (i+1)%5000 == 0:\n",
    "            print('[iteration {}]'.format(i+1,))\n",
    "            print('train error:  {}'.format(train_error[i]))\n",
    "            print('test error:   {}'.format(test_error[i]))\n",
    "            print()"
   ]
  },
  {
   "cell_type": "code",
   "execution_count": 30,
   "metadata": {
    "scrolled": true
   },
   "outputs": [
    {
     "name": "stdout",
     "output_type": "stream",
     "text": [
      "4999\n",
      "0.005828581\n",
      "\n",
      "9999\n",
      "0.005069217\n",
      "\n",
      "14999\n",
      "0.0045945584\n",
      "\n",
      "19999\n",
      "0.0042746067\n",
      "\n",
      "24999\n",
      "0.0040461146\n",
      "\n",
      "29999\n",
      "0.0039040865\n",
      "\n",
      "34999\n",
      "0.0038021817\n",
      "\n",
      "39999\n",
      "0.0038205227\n",
      "\n",
      "44999\n",
      "0.003805544\n",
      "\n",
      "49999\n",
      "0.0038208612\n",
      "\n",
      "54999\n",
      "0.003831898\n",
      "\n",
      "59999\n",
      "0.0038777397\n",
      "\n",
      "64999\n",
      "0.0038854296\n",
      "\n",
      "69999\n",
      "0.0038829634\n",
      "\n",
      "74999\n",
      "0.0038664725\n",
      "\n",
      "79999\n",
      "0.0038435138\n",
      "\n",
      "84999\n",
      "0.003835317\n",
      "\n",
      "89999\n",
      "0.0038244338\n",
      "\n",
      "94999\n",
      "0.003819513\n",
      "\n",
      "99999\n",
      "0.0038159548\n",
      "\n",
      "104999\n",
      "0.0038136393\n",
      "\n",
      "109999\n",
      "0.0038176747\n",
      "\n",
      "114999\n",
      "0.0038211206\n",
      "\n",
      "119999\n",
      "0.0038209113\n",
      "\n",
      "124999\n",
      "0.0038226151\n",
      "\n",
      "129999\n",
      "0.0038229402\n",
      "\n",
      "134999\n",
      "0.003820714\n",
      "\n",
      "139999\n",
      "0.0038197562\n",
      "\n",
      "144999\n",
      "0.0038198838\n",
      "\n",
      "149999\n",
      "0.0038175755\n",
      "\n"
     ]
    }
   ],
   "source": [
    "'''\n",
    "counter = 1\n",
    "for each in test_error:\n",
    "    counter += 1\n",
    "    if counter == 0 or (counter+1)%5000 == 0:\n",
    "        print(counter)\n",
    "        print(test_error[counter])\n",
    "        print(\"\")\n",
    "'''"
   ]
  },
  {
   "cell_type": "code",
   "execution_count": 10,
   "metadata": {
    "colab": {
     "base_uri": "https://localhost:8080/",
     "height": 295
    },
    "colab_type": "code",
    "executionInfo": {
     "elapsed": 364,
     "status": "ok",
     "timestamp": 1571306277865,
     "user": {
      "displayName": "Telomeresis",
      "photoUrl": "https://lh3.googleusercontent.com/ogw/ADGmqu8HiAoyYChS5ur3Zu-_rCkgwVmrmwvxVYOrgOJP=s83-c-mo",
      "userId": "13216546334561796710"
     },
     "user_tz": -480
    },
    "id": "VLdczt6hEFEE",
    "outputId": "84b630b1-8506-4408-e1f4-a1fff5e72213"
   },
   "outputs": [
    {
     "data": {
      "image/png": "[encoded data removed]",
      "text/plain": [
       "<Figure size 432x288 with 1 Axes>"
      ]
     },
     "metadata": {
      "needs_background": "light"
     },
     "output_type": "display_data"
    }
   ],
   "source": [
    "# Plot learning curves\n",
    "plt.figure()\n",
    "plt.title('errors vs. epochs')\n",
    "plt.plot(range(epochs), train_error,'g',label='train')\n",
    "plt.plot(range(epochs), test_error,'r',label='test')\n",
    "plt.xlabel('epochs')\n",
    "plt.ylabel('errors')\n",
    "plt.legend(loc='best')\n",
    "plt.ylim((0,0.01))\n",
    "\n",
    "plt.show()"
   ]
  },
  {
   "cell_type": "code",
   "execution_count": 11,
   "metadata": {
    "colab": {
     "base_uri": "https://localhost:8080/",
     "height": 50
    },
    "colab_type": "code",
    "executionInfo": {
     "elapsed": 643,
     "status": "ok",
     "timestamp": 1571306362170,
     "user": {
      "displayName": "Telomeresis",
      "photoUrl": "https://lh3.googleusercontent.com/ogw/ADGmqu8HiAoyYChS5ur3Zu-_rCkgwVmrmwvxVYOrgOJP=s83-c-mo",
      "userId": "13216546334561796710"
     },
     "user_tz": -480
    },
    "id": "l7pPCHTAJLno",
    "outputId": "43fa9250-92ff-4f64-ada9-7386ab494b13"
   },
   "outputs": [
    {
     "name": "stdout",
     "output_type": "stream",
     "text": [
      "Min test error: 0.003800114\n",
      "Optimal epoch: 36511\n"
     ]
    }
   ],
   "source": [
    "min_test_error = min(test_error)\n",
    "opt_epoch = test_error.index(min_test_error)\n",
    "print(\"Min test error:\", min_test_error)\n",
    "print(\"Optimal epoch:\", opt_epoch)"
   ]
  },
  {
   "cell_type": "code",
   "execution_count": 32,
   "metadata": {
    "colab": {},
    "colab_type": "code",
    "id": "P9jXnJSbyGAj"
   },
   "outputs": [],
   "source": [
    "N = train_size\n",
    "idx_train = np.arange(N)\n",
    "\n",
    "# Run the session\n",
    "sess = tf.Session()\n",
    "init = tf.global_variables_initializer()\n",
    "sess.run(init)\n",
    "  \n",
    "for i in range(opt_epoch):\n",
    "    # Shuffle the training data\n",
    "    np.random.shuffle(idx_train) \n",
    "    trainX = trainX[idx_train]\n",
    "    trainY = trainY[idx_train]\n",
    "\n",
    "    for start, end in zip(range(0, N, batch_size), range(batch_size, N, batch_size)):\n",
    "        sess.run(train_op, {x:trainX[start:end], y_:trainY[start:end]})"
   ]
  },
  {
   "cell_type": "code",
   "execution_count": 33,
   "metadata": {
    "colab": {},
    "colab_type": "code",
    "id": "5COGKoHCDV5o"
   },
   "outputs": [],
   "source": [
    "# Predict on test set\n",
    "predicted = sess.run(y, {x:testX, y_:testY})"
   ]
  },
  {
   "cell_type": "code",
   "execution_count": 34,
   "metadata": {
    "colab": {},
    "colab_type": "code",
    "id": "FXKvj7gTScHy"
   },
   "outputs": [],
   "source": [
    "target_prediction_df = pd.DataFrame({'Target': np.array(testY).flatten(), 'Predicted': np.array(predicted).flatten()})"
   ]
  },
  {
   "cell_type": "code",
   "execution_count": 35,
   "metadata": {
    "colab": {
     "base_uri": "https://localhost:8080/",
     "height": 1000
    },
    "colab_type": "code",
    "executionInfo": {
     "elapsed": 731,
     "status": "ok",
     "timestamp": 1571326664930,
     "user": {
      "displayName": "Telomeresis",
      "photoUrl": "https://lh3.googleusercontent.com/ogw/ADGmqu8HiAoyYChS5ur3Zu-_rCkgwVmrmwvxVYOrgOJP=s83-c-mo",
      "userId": "13216546334561796710"
     },
     "user_tz": -480
    },
    "id": "pnvmIsW5XIYa",
    "outputId": "01b4bdfa-f14c-4f22-9300-8d52221f9de2",
    "scrolled": false
   },
   "outputs": [
    {
     "data": {
      "text/html": [
       "<div>\n",
       "<style scoped>\n",
       "    .dataframe tbody tr th:only-of-type {\n",
       "        vertical-align: middle;\n",
       "    }\n",
       "\n",
       "    .dataframe tbody tr th {\n",
       "        vertical-align: top;\n",
       "    }\n",
       "\n",
       "    .dataframe thead th {\n",
       "        text-align: right;\n",
       "    }\n",
       "</style>\n",
       "<table border=\"1\" class=\"dataframe\">\n",
       "  <thead>\n",
       "    <tr style=\"text-align: right;\">\n",
       "      <th></th>\n",
       "      <th>Target</th>\n",
       "      <th>Predicted</th>\n",
       "    </tr>\n",
       "  </thead>\n",
       "  <tbody>\n",
       "    <tr>\n",
       "      <th>0</th>\n",
       "      <td>0.6500</td>\n",
       "      <td>0.6347</td>\n",
       "    </tr>\n",
       "    <tr>\n",
       "      <th>1</th>\n",
       "      <td>0.7600</td>\n",
       "      <td>0.6711</td>\n",
       "    </tr>\n",
       "    <tr>\n",
       "      <th>2</th>\n",
       "      <td>0.7000</td>\n",
       "      <td>0.5093</td>\n",
       "    </tr>\n",
       "    <tr>\n",
       "      <th>3</th>\n",
       "      <td>0.7100</td>\n",
       "      <td>0.7296</td>\n",
       "    </tr>\n",
       "    <tr>\n",
       "      <th>4</th>\n",
       "      <td>0.6300</td>\n",
       "      <td>0.7054</td>\n",
       "    </tr>\n",
       "    <tr>\n",
       "      <th>...</th>\n",
       "      <td>...</td>\n",
       "      <td>...</td>\n",
       "    </tr>\n",
       "    <tr>\n",
       "      <th>115</th>\n",
       "      <td>0.9600</td>\n",
       "      <td>0.9451</td>\n",
       "    </tr>\n",
       "    <tr>\n",
       "      <th>116</th>\n",
       "      <td>0.8700</td>\n",
       "      <td>0.8485</td>\n",
       "    </tr>\n",
       "    <tr>\n",
       "      <th>117</th>\n",
       "      <td>0.7200</td>\n",
       "      <td>0.6563</td>\n",
       "    </tr>\n",
       "    <tr>\n",
       "      <th>118</th>\n",
       "      <td>0.5700</td>\n",
       "      <td>0.4529</td>\n",
       "    </tr>\n",
       "    <tr>\n",
       "      <th>119</th>\n",
       "      <td>0.6200</td>\n",
       "      <td>0.6057</td>\n",
       "    </tr>\n",
       "  </tbody>\n",
       "</table>\n",
       "<p>120 rows × 2 columns</p>\n",
       "</div>"
      ],
      "text/plain": [
       "     Target  Predicted\n",
       "0    0.6500     0.6347\n",
       "1    0.7600     0.6711\n",
       "2    0.7000     0.5093\n",
       "3    0.7100     0.7296\n",
       "4    0.6300     0.7054\n",
       "..      ...        ...\n",
       "115  0.9600     0.9451\n",
       "116  0.8700     0.8485\n",
       "117  0.7200     0.6563\n",
       "118  0.5700     0.4529\n",
       "119  0.6200     0.6057\n",
       "\n",
       "[120 rows x 2 columns]"
      ]
     },
     "execution_count": 35,
     "metadata": {},
     "output_type": "execute_result"
    }
   ],
   "source": [
    "target_prediction_df"
   ]
  },
  {
   "cell_type": "code",
   "execution_count": 36,
   "metadata": {
    "colab": {
     "base_uri": "https://localhost:8080/",
     "height": 326
    },
    "colab_type": "code",
    "executionInfo": {
     "elapsed": 1757,
     "status": "ok",
     "timestamp": 1571327444825,
     "user": {
      "displayName": "Telomeresis",
      "photoUrl": "https://lh3.googleusercontent.com/ogw/ADGmqu8HiAoyYChS5ur3Zu-_rCkgwVmrmwvxVYOrgOJP=s83-c-mo",
      "userId": "13216546334561796710"
     },
     "user_tz": -480
    },
    "id": "7pYzg2I6XyVi",
    "outputId": "de172e90-2614-4dac-f962-c4db0e547d6e"
   },
   "outputs": [
    {
     "data": {
      "image/png": "[encoded data removed]",
      "text/plain": [
       "<Figure size 1800x360 with 1 Axes>"
      ]
     },
     "metadata": {
      "needs_background": "light"
     },
     "output_type": "display_data"
    }
   ],
   "source": [
    "target_prediction_50_df = target_prediction_df.head(50)\n",
    "target_prediction_50_df.plot(kind='bar',figsize=(25,5))\n",
    "plt.grid(which='major', linestyle='-', linewidth='0.1', color='green')\n",
    "plt.grid(which='minor', linestyle=':', linewidth='0.5', color='black')\n",
    "\n",
    "plt.show()"
   ]
  }
 ],
 "metadata": {
  "accelerator": "TPU",
  "colab": {
   "collapsed_sections": [],
   "name": "Part_B_Q1.ipynb",
   "provenance": []
  },
  "kernelspec": {
   "display_name": "Python 3",
   "language": "python",
   "name": "python3"
  },
  "language_info": {
   "codemirror_mode": {
    "name": "ipython",
    "version": 3
   },
   "file_extension": ".py",
   "mimetype": "text/x-python",
   "name": "python",
   "nbconvert_exporter": "python",
   "pygments_lexer": "ipython3",
   "version": "3.7.9"
  }
 },
 "nbformat": 4,
 "nbformat_minor": 1
}
