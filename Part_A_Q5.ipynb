{
 "cells": [
  {
   "cell_type": "code",
   "execution_count": 1,
   "metadata": {
    "colab": {},
    "colab_type": "code",
    "id": "H8kGdxaxbRgu"
   },
   "outputs": [],
   "source": [
    "import math\n",
    "import tensorflow as tf\n",
    "import numpy as np\n",
    "import pylab as plt\n",
    "import pandas as pd\n",
    "\n",
    "tf.compat.v1.logging.set_verbosity(tf.compat.v1.logging.ERROR)"
   ]
  },
  {
   "cell_type": "code",
   "execution_count": 2,
   "metadata": {},
   "outputs": [
    {
     "name": "stdout",
     "output_type": "stream",
     "text": [
      "1 Physical GPUs, 1 Logical GPUs\n"
     ]
    }
   ],
   "source": [
    "# Set compatibility mode\n",
    "import tensorflow.compat.v1 as tf\n",
    "tf.disable_v2_behavior()\n",
    "\n",
    "# Set pandas display option\n",
    "pd.options.display.float_format = \"{:,.4f}\".format \n",
    "\n",
    "# RTX ON\n",
    "gpus = tf.config.experimental.list_physical_devices('GPU')\n",
    "if gpus:\n",
    "    try:\n",
    "        # Currently, memory growth needs to be the same across GPUs\n",
    "        for gpu in gpus:\n",
    "            tf.config.experimental.set_memory_growth(gpu, True)\n",
    "        logical_gpus = tf.config.experimental.list_logical_devices('GPU')\n",
    "        print(len(gpus), \"Physical GPUs,\", len(logical_gpus), \"Logical GPUs\")\n",
    "    except RuntimeError as e:\n",
    "        # Memory growth must be set before GPUs have been initialized\n",
    "        print(e)"
   ]
  },
  {
   "cell_type": "code",
   "execution_count": 3,
   "metadata": {
    "colab": {},
    "colab_type": "code",
    "id": "nR4VbYw0bs0a"
   },
   "outputs": [],
   "source": [
    "# scale data\n",
    "def scale(X, X_min, X_max):\n",
    "    return (X - X_min)/(X_max-X_min)"
   ]
  },
  {
   "cell_type": "code",
   "execution_count": 4,
   "metadata": {
    "colab": {},
    "colab_type": "code",
    "id": "QHE-ff7ybvQR"
   },
   "outputs": [],
   "source": [
    "NUM_FEATURES = 21\n",
    "NUM_CLASSES = 3\n",
    "\n",
    "hidden_units = 10\n",
    "learning_rate = 0.01\n",
    "beta = 10**-6\n",
    "batch_size = 32\n",
    "\n",
    "epochs = 2001\n",
    "seed = 10\n",
    "np.random.seed(seed)"
   ]
  },
  {
   "cell_type": "code",
   "execution_count": 5,
   "metadata": {
    "colab": {},
    "colab_type": "code",
    "id": "dvkn04yAb833"
   },
   "outputs": [],
   "source": [
    "#read data\n",
    "data_input = np.genfromtxt('ctg_data_cleaned.csv', delimiter= ',')\n",
    "data_X, data_Y = data_input[1:, :21], data_input[1:,-1].astype(int)\n",
    "dataX = scale(data_X, np.min(data_X, axis=0), np.max(data_X, axis=0)) #Scaled X\n",
    "\n",
    "#Defining the size of training set and data set\n",
    "dataset_size = len(dataX)\n",
    "train_size = int(0.7 * dataset_size)\n",
    "test_size = dataset_size - train_size\n",
    "\n",
    "#Shuffle the data before splitting to train test set\n",
    "#Data belongings to the same class are usually cluster together in the dataset, we want to shuffle them\n",
    "idx = np.arange(dataset_size)\n",
    "np.random.shuffle(idx)\n",
    "dataX = dataX[idx]\n",
    "data_Y = data_Y[idx]\n",
    "dataY = np.zeros((data_Y.shape[0], NUM_CLASSES))\n",
    "dataY[np.arange(data_Y.shape[0]), data_Y-1] = 1 #one hot matrix\n",
    "\n",
    "#Split the training and testing set\n",
    "trainX = dataX[:train_size]\n",
    "trainY = dataY[:train_size]\n",
    "\n",
    "testX = dataX[train_size:]\n",
    "testY = dataY[train_size:]"
   ]
  },
  {
   "cell_type": "code",
   "execution_count": 6,
   "metadata": {
    "colab": {},
    "colab_type": "code",
    "id": "NNW7rw-H_5PJ"
   },
   "outputs": [],
   "source": [
    "# Create the model\n",
    "x = tf.placeholder(tf.float32, [None, NUM_FEATURES])\n",
    "y_ = tf.placeholder(tf.float32, [None, NUM_CLASSES])\n",
    "\n",
    "#Build the graph for the neural network\n",
    "\n",
    "w1 = tf.Variable(tf.truncated_normal([NUM_FEATURES, hidden_units], stddev=1.0/math.sqrt(float(NUM_FEATURES))), name='weights')\n",
    "b1 = tf.Variable(tf.zeros([hidden_units]),name='biases')\n",
    "h1 = tf.nn.relu(tf.matmul(x, w1) + b1) #Hidden layer with relu activation\n",
    "\n",
    "w2 = tf.Variable(tf.truncated_normal([hidden_units, hidden_units], stddev=1.0/math.sqrt(float(hidden_units))), name='weights')\n",
    "b2 = tf.Variable(tf.zeros([hidden_units]),name='biases')\n",
    "h2 = tf.nn.relu(tf.matmul(h1, w2) + b2) #Hidden layer with relu activation\n",
    "\n",
    "w3 = tf.Variable(tf.truncated_normal([hidden_units, NUM_CLASSES], stddev=1.0/math.sqrt(float(hidden_units))), name='weights')\n",
    "b3 = tf.Variable(tf.zeros([NUM_CLASSES]),name='biases')\n",
    "u = tf.matmul(h2, w3) + b3  #logits=u\n",
    "cross_entropy = tf.nn.softmax_cross_entropy_with_logits_v2(labels=y_, logits=u)"
   ]
  },
  {
   "cell_type": "code",
   "execution_count": 7,
   "metadata": {
    "colab": {},
    "colab_type": "code",
    "id": "B8SAOiZ6qtWL"
   },
   "outputs": [],
   "source": [
    "#Regularization\n",
    "regularization = tf.nn.l2_loss(w1) + tf.nn.l2_loss(w2) + tf.nn.l2_loss(w3)\n",
    "\n",
    "#Regularized loss\n",
    "loss = tf.reduce_mean(cross_entropy + beta*regularization)"
   ]
  },
  {
   "cell_type": "code",
   "execution_count": 8,
   "metadata": {
    "colab": {},
    "colab_type": "code",
    "id": "5R1SpUZX7EDU"
   },
   "outputs": [],
   "source": [
    "#Defining the optimiser\n",
    "optimizer = tf.train.GradientDescentOptimizer(learning_rate)\n",
    "\n",
    "#Create a variable to track the global step\n",
    "global_step = tf.Variable(0, name='global_step', trainable=False)\n",
    "\n",
    "#Use the optimizer to apply the gradients that minimize the loss\n",
    "#(and also increment the global step counter) as a single training step.\n",
    "train_op = optimizer.minimize(loss, global_step=global_step)"
   ]
  },
  {
   "cell_type": "code",
   "execution_count": 9,
   "metadata": {
    "colab": {},
    "colab_type": "code",
    "id": "dcykrj1d7Fg6"
   },
   "outputs": [],
   "source": [
    "#Evaluate the accuracy and error\n",
    "correct_prediction = tf.cast(tf.equal(tf.argmax(u, 1), tf.argmax(y_, 1)), tf.float32)\n",
    "accuracy = tf.reduce_mean(correct_prediction)\n",
    "error = tf.reduce_sum(tf.cast(tf.not_equal(tf.argmax(u, axis=1), tf.argmax(y_, axis=1)), dtype=tf.int32))"
   ]
  },
  {
   "cell_type": "code",
   "execution_count": 10,
   "metadata": {
    "colab": {
     "base_uri": "https://localhost:8080/",
     "height": 318
    },
    "colab_type": "code",
    "executionInfo": {
     "elapsed": 139345,
     "status": "ok",
     "timestamp": 1571398292304,
     "user": {
      "displayName": "Telomeresis",
      "photoUrl": "https://lh3.googleusercontent.com/ogw/ADGmqu8HiAoyYChS5ur3Zu-_rCkgwVmrmwvxVYOrgOJP=s83-c-mo",
      "userId": "13216546334561796710"
     },
     "user_tz": -480
    },
    "id": "nZIbc09r8eai",
    "outputId": "b3c55981-76ae-4355-a198-93c94617c7a0"
   },
   "outputs": [
    {
     "name": "stdout",
     "output_type": "stream",
     "text": [
      "[Iteration 1]\n",
      "train accuracy: 0.7755376100540161\n",
      "test accuracy:  0.7852664589881897\n",
      "\n",
      "[Iteration 1000]\n",
      "train accuracy: 0.914650559425354\n",
      "test accuracy:  0.9216300845146179\n",
      "\n",
      "[Iteration 2000]\n",
      "train accuracy: 0.9348118305206299\n",
      "test accuracy:  0.9263322949409485\n",
      "\n"
     ]
    }
   ],
   "source": [
    "N = train_size\n",
    "idx_train = np.arange(N)\n",
    "\n",
    "#Running the session\n",
    "with tf.Session() as sess:\n",
    "    sess.run(tf.global_variables_initializer())\n",
    "\n",
    "    train_acc = []\n",
    "    test_acc =[]\n",
    "\n",
    "    for i in range(epochs):\n",
    "\n",
    "        for start, end in zip(range(0, N, batch_size), range(batch_size, N, batch_size)):\n",
    "            train_op.run(feed_dict={x: trainX[start:end], y_: trainY[start:end]})\n",
    "\n",
    "        train_acc.append(accuracy.eval(feed_dict={x: trainX, y_: trainY}))       \n",
    "        test_acc.append(accuracy.eval(feed_dict={x: testX, y_: testY}))\n",
    "\n",
    "        if i == 0 or (i+1)%1000 == 0:\n",
    "            print('[Iteration {}]'.format(i+1))\n",
    "            print('train accuracy: {}'.format(train_acc[i]))\n",
    "            print('test accuracy:  {}'.format(test_acc[i]))\n",
    "            print()"
   ]
  },
  {
   "cell_type": "code",
   "execution_count": 11,
   "metadata": {
    "colab": {
     "base_uri": "https://localhost:8080/",
     "height": 295
    },
    "colab_type": "code",
    "executionInfo": {
     "elapsed": 1865,
     "status": "ok",
     "timestamp": 1571399736501,
     "user": {
      "displayName": "Telomeresis",
      "photoUrl": "https://lh3.googleusercontent.com/ogw/ADGmqu8HiAoyYChS5ur3Zu-_rCkgwVmrmwvxVYOrgOJP=s83-c-mo",
      "userId": "13216546334561796710"
     },
     "user_tz": -480
    },
    "id": "VLdczt6hEFEE",
    "outputId": "6f394bd7-a3b2-41ee-f94f-8f5e982836dc"
   },
   "outputs": [
    {
     "data": {
      "image/png": "[encoded data removed]",
      "text/plain": [
       "<Figure size 432x288 with 1 Axes>"
      ]
     },
     "metadata": {
      "needs_background": "light"
     },
     "output_type": "display_data"
    }
   ],
   "source": [
    "# plot learning curves\n",
    "plt.figure()\n",
    "plt.title('accuracy vs. epochs')\n",
    "plt.plot(range(epochs), train_acc,'g',label='train')\n",
    "plt.plot(range(epochs), test_acc,'r',label='test')\n",
    "plt.xlabel('epochs')\n",
    "plt.ylabel('accuracy')\n",
    "plt.legend(loc='best')\n",
    "\n",
    "plt.show()"
   ]
  }
 ],
 "metadata": {
  "accelerator": "TPU",
  "colab": {
   "collapsed_sections": [],
   "name": "Part_A_Q5.ipynb",
   "provenance": []
  },
  "kernelspec": {
   "display_name": "Python 3",
   "language": "python",
   "name": "python3"
  },
  "language_info": {
   "codemirror_mode": {
    "name": "ipython",
    "version": 3
   },
   "file_extension": ".py",
   "mimetype": "text/x-python",
   "name": "python",
   "nbconvert_exporter": "python",
   "pygments_lexer": "ipython3",
   "version": "3.7.9"
  }
 },
 "nbformat": 4,
 "nbformat_minor": 1
}
