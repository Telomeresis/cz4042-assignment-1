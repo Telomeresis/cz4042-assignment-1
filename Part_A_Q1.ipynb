{
 "cells": [
  {
   "cell_type": "code",
   "execution_count": 1,
   "metadata": {
    "colab": {},
    "colab_type": "code",
    "id": "H8kGdxaxbRgu"
   },
   "outputs": [],
   "source": [
    "import math\n",
    "import tensorflow as tf\n",
    "import numpy as np\n",
    "import pylab as plt\n",
    "import pandas as pd\n",
    "\n",
    "tf.compat.v1.logging.set_verbosity(tf.compat.v1.logging.ERROR)"
   ]
  },
  {
   "cell_type": "code",
   "execution_count": 2,
   "metadata": {},
   "outputs": [
    {
     "name": "stdout",
     "output_type": "stream",
     "text": [
      "1 Physical GPUs, 1 Logical GPUs\n"
     ]
    }
   ],
   "source": [
    "# Set compatibility mode\n",
    "import tensorflow.compat.v1 as tf\n",
    "tf.disable_v2_behavior()\n",
    "\n",
    "# Set pandas display option\n",
    "pd.options.display.float_format = \"{:,.4f}\".format \n",
    "\n",
    "# RTX ON\n",
    "gpus = tf.config.experimental.list_physical_devices('GPU')\n",
    "if gpus:\n",
    "    try:\n",
    "        # Currently, memory growth needs to be the same across GPUs\n",
    "        for gpu in gpus:\n",
    "            tf.config.experimental.set_memory_growth(gpu, True)\n",
    "        logical_gpus = tf.config.experimental.list_logical_devices('GPU')\n",
    "        print(len(gpus), \"Physical GPUs,\", len(logical_gpus), \"Logical GPUs\")\n",
    "    except RuntimeError as e:\n",
    "        # Memory growth must be set before GPUs have been initialized\n",
    "        print(e)"
   ]
  },
  {
   "cell_type": "code",
   "execution_count": 3,
   "metadata": {
    "colab": {},
    "colab_type": "code",
    "id": "nR4VbYw0bs0a"
   },
   "outputs": [],
   "source": [
    "# Scale data\n",
    "def scale(X, X_min, X_max):\n",
    "    return (X - X_min)/(X_max-X_min)"
   ]
  },
  {
   "cell_type": "code",
   "execution_count": 4,
   "metadata": {
    "colab": {},
    "colab_type": "code",
    "id": "QHE-ff7ybvQR"
   },
   "outputs": [],
   "source": [
    "NUM_FEATURES = 21\n",
    "NUM_CLASSES = 3\n",
    "\n",
    "hidden_units = 10\n",
    "learning_rate = 0.01\n",
    "beta = 10**-6\n",
    "batch_size = 32\n",
    "\n",
    "epochs = 5001\n",
    "seed = 10\n",
    "np.random.seed(seed)"
   ]
  },
  {
   "cell_type": "code",
   "execution_count": 5,
   "metadata": {
    "colab": {},
    "colab_type": "code",
    "id": "dvkn04yAb833"
   },
   "outputs": [],
   "source": [
    "# Read data\n",
    "data_input = np.genfromtxt('ctg_data_cleaned.csv', delimiter= ',')\n",
    "data_X, data_Y = data_input[1:, :21], data_input[1:, -1].astype(int)\n",
    "dataX = scale(data_X, np.min(data_X, axis=0), np.max(data_X, axis=0)) #Scaled X\n",
    "\n",
    "# Define the size of training set and data set\n",
    "dataset_size = len(dataX)\n",
    "train_size = int(0.7 * dataset_size)\n",
    "test_size = dataset_size - train_size\n",
    "\n",
    "# Shuffle the data before splitting to train test set\n",
    "# Data of same class are usually clustered together in the dataset, we want to shuffle them\n",
    "idx = np.arange(dataset_size)\n",
    "np.random.shuffle(idx)\n",
    "dataX = dataX[idx]\n",
    "data_Y = data_Y[idx]\n",
    "dataY = np.zeros((data_Y.shape[0], NUM_CLASSES))\n",
    "dataY[np.arange(data_Y.shape[0]), data_Y-1] = 1 #one hot matrix\n",
    "\n",
    "# Split the training and testing set\n",
    "trainX = dataX[:train_size]\n",
    "trainY = dataY[:train_size]\n",
    "\n",
    "testX = dataX[train_size:]\n",
    "testY = dataY[train_size:]"
   ]
  },
  {
   "cell_type": "code",
   "execution_count": 6,
   "metadata": {
    "colab": {},
    "colab_type": "code",
    "id": "NNW7rw-H_5PJ"
   },
   "outputs": [],
   "source": [
    "# Create the model\n",
    "x = tf.placeholder(tf.float32, [None, NUM_FEATURES])\n",
    "y_ = tf.placeholder(tf.float32, [None, NUM_CLASSES])\n",
    "\n",
    "# Build the graph for the neural network\n",
    "# Hidden layer with Relu activation\n",
    "w1 = tf.Variable(tf.truncated_normal([NUM_FEATURES, hidden_units], stddev=1.0/math.sqrt(float(NUM_FEATURES))), name='weights')\n",
    "b1 = tf.Variable(tf.zeros([hidden_units]), name='biases')\n",
    "h1 = tf.nn.relu(tf.matmul(x, w1) + b1) \n",
    "\n",
    "w2 = tf.Variable(tf.truncated_normal([hidden_units, NUM_CLASSES], stddev=1.0/math.sqrt(float(hidden_units))), name='weights')\n",
    "b2 = tf.Variable(tf.zeros([NUM_CLASSES]), name='biases')\n",
    "u = tf.matmul(h1, w2) + b2 #logits=u\n",
    "cross_entropy = tf.nn.softmax_cross_entropy_with_logits_v2(labels=y_, logits=u)"
   ]
  },
  {
   "cell_type": "code",
   "execution_count": 7,
   "metadata": {
    "colab": {},
    "colab_type": "code",
    "id": "B8SAOiZ6qtWL"
   },
   "outputs": [],
   "source": [
    "# Regularization\n",
    "regularization = tf.nn.l2_loss(w1) + tf.nn.l2_loss(w2)\n",
    "\n",
    "# Regularized loss\n",
    "loss = tf.reduce_mean(cross_entropy + beta*regularization)"
   ]
  },
  {
   "cell_type": "code",
   "execution_count": 8,
   "metadata": {
    "colab": {},
    "colab_type": "code",
    "id": "5R1SpUZX7EDU"
   },
   "outputs": [],
   "source": [
    "# Define the optimiser\n",
    "optimizer = tf.train.GradientDescentOptimizer(learning_rate)\n",
    "\n",
    "# Create a variable to track the global step\n",
    "global_step = tf.Variable(0, name='global_step', trainable=False)\n",
    "\n",
    "# Use the optimizer to apply the gradients that minimize the loss\n",
    "# (and also increment the global step counter) as a single training step.\n",
    "train_op = optimizer.minimize(loss, global_step=global_step)"
   ]
  },
  {
   "cell_type": "code",
   "execution_count": 9,
   "metadata": {
    "colab": {},
    "colab_type": "code",
    "id": "dcykrj1d7Fg6"
   },
   "outputs": [],
   "source": [
    "# Evaluate the accuracy and error\n",
    "correct_prediction = tf.cast(tf.equal(tf.argmax(u, 1), tf.argmax(y_, 1)), tf.float32)\n",
    "accuracy = tf.reduce_mean(correct_prediction)\n",
    "error = tf.reduce_sum(tf.cast(tf.not_equal(tf.argmax(u, axis=1), tf.argmax(y_, axis=1)), dtype=tf.int32))"
   ]
  },
  {
   "cell_type": "code",
   "execution_count": 12,
   "metadata": {
    "colab": {
     "base_uri": "https://localhost:8080/",
     "height": 518
    },
    "colab_type": "code",
    "executionInfo": {
     "elapsed": 165564,
     "status": "ok",
     "timestamp": 1571243884397,
     "user": {
      "displayName": "Telomeresis",
      "photoUrl": "https://lh3.googleusercontent.com/ogw/ADGmqu8HiAoyYChS5ur3Zu-_rCkgwVmrmwvxVYOrgOJP=s83-c-mo",
      "userId": "13216546334561796710"
     },
     "user_tz": -480
    },
    "id": "nZIbc09r8eai",
    "outputId": "31577ed8-2fd0-40e2-b434-cb06ee782e8f",
    "scrolled": false
   },
   "outputs": [
    {
     "name": "stdout",
     "output_type": "stream",
     "text": [
      "[Iteration 1]\n",
      "⏵train accuracy: 0.7748655676841736\n",
      "⏵test accuracy:  0.7899686694145203\n",
      "⏵train error:    335\n",
      "⏵test error:     134\n",
      "\n",
      "[Iteration 1000]\n",
      "⏵train accuracy: 0.9065860509872437\n",
      "⏵test accuracy:  0.907523512840271\n",
      "⏵train error:    139\n",
      "⏵test error:     56\n",
      "\n",
      "[Iteration 2000]\n",
      "⏵train accuracy: 0.914650559425354\n",
      "⏵test accuracy:  0.9122257232666016\n",
      "⏵train error:    127\n",
      "⏵test error:     50\n",
      "\n",
      "[Iteration 3000]\n",
      "⏵train accuracy: 0.9240591526031494\n",
      "⏵test accuracy:  0.9216300845146179\n",
      "⏵train error:    113\n",
      "⏵test error:     55\n",
      "\n",
      "[Iteration 4000]\n",
      "⏵train accuracy: 0.9327957034111023\n",
      "⏵test accuracy:  0.9169278740882874\n",
      "⏵train error:    100\n",
      "⏵test error:     53\n",
      "\n",
      "[Iteration 5000]\n",
      "⏵train accuracy: 0.9361559152603149\n",
      "⏵test accuracy:  0.9184952974319458\n",
      "⏵train error:    95\n",
      "⏵test error:     52\n",
      "\n"
     ]
    }
   ],
   "source": [
    "N = train_size\n",
    "idx_train = np.arange(N)\n",
    "\n",
    "# Run the session\n",
    "with tf.Session() as sess:\n",
    "    sess.run(tf.global_variables_initializer())\n",
    "    \n",
    "    train_acc = []\n",
    "    test_acc =[]\n",
    "    train_error =[]\n",
    "    test_error =[]\n",
    "    \n",
    "    for i in range(epochs):\n",
    "        \n",
    "        for start, end in zip(range(0, N, batch_size), range(batch_size, N, batch_size)):\n",
    "            train_op.run(feed_dict={x: trainX[start:end], y_: trainY[start:end]})\n",
    "            \n",
    "            train_acc.append(accuracy.eval(feed_dict={x: trainX, y_: trainY}))       \n",
    "            test_acc.append(accuracy.eval(feed_dict={x: testX, y_: testY}))\n",
    "            \n",
    "            train_error.append(error.eval(feed_dict={x: trainX, y_: trainY}))\n",
    "            test_error.append(error.eval(feed_dict={x: testX, y_: testY}))\n",
    "            \n",
    "            if i == 0 or (i+1)%1000 == 0:\n",
    "                print('[iter {}]'.format(i+1))\n",
    "                print('⏵train accuracy: {}'.format(train_acc[i]))\n",
    "                print('⏵test accuracy:  {}'.format(test_acc[i]))\n",
    "                print('⏵train error:    {}'.format(train_error[i]))\n",
    "                print('⏵test error:     {}'.format(test_error[i]))\n",
    "                print()"
   ]
  },
  {
   "cell_type": "code",
   "execution_count": 13,
   "metadata": {
    "colab": {
     "base_uri": "https://localhost:8080/",
     "height": 573
    },
    "colab_type": "code",
    "executionInfo": {
     "elapsed": 166321,
     "status": "ok",
     "timestamp": 1571243885164,
     "user": {
      "displayName": "Telomeresis",
      "photoUrl": "https://lh3.googleusercontent.com/ogw/ADGmqu8HiAoyYChS5ur3Zu-_rCkgwVmrmwvxVYOrgOJP=s83-c-mo",
      "userId": "13216546334561796710"
     },
     "user_tz": -480
    },
    "id": "VLdczt6hEFEE",
    "outputId": "596b776e-aff4-48eb-d8dd-953f5d7a38cc"
   },
   "outputs": [
    {
     "data": {
      "image/png": "[encoded data removed]",
      "text/plain": [
       "<Figure size 432x288 with 1 Axes>"
      ]
     },
     "metadata": {
      "needs_background": "light"
     },
     "output_type": "display_data"
    },
    {
     "data": {
      "image/png": "[encoded data removed]",
      "text/plain": [
       "<Figure size 432x288 with 1 Axes>"
      ]
     },
     "metadata": {
      "needs_background": "light"
     },
     "output_type": "display_data"
    }
   ],
   "source": [
    "# plot learning curves\n",
    "plt.figure()\n",
    "plt.title('accuracy vs. epochs')\n",
    "plt.plot(range(epochs), train_acc,'g',label='train')\n",
    "plt.plot(range(epochs), test_acc,'r',label='test')\n",
    "plt.xlabel('epochs')\n",
    "plt.ylabel('accuracy')\n",
    "plt.legend(loc='best')\n",
    "\n",
    "plt.figure()\n",
    "plt.title('classification errors vs. epochs')\n",
    "plt.plot(range(epochs), train_error,'g',label = 'train')\n",
    "plt.plot(range(epochs), test_error,'r',label = 'test')\n",
    "plt.xlabel('epochs')\n",
    "plt.ylabel('errors')\n",
    "plt.legend(loc='best')\n",
    "\n",
    "plt.show()"
   ]
  }
 ],
 "metadata": {
  "accelerator": "TPU",
  "colab": {
   "collapsed_sections": [],
   "name": "Part_A_Q1.ipynb",
   "provenance": []
  },
  "kernelspec": {
   "display_name": "Python 3",
   "language": "python",
   "name": "python3"
  },
  "language_info": {
   "codemirror_mode": {
    "name": "ipython",
    "version": 3
   },
   "file_extension": ".py",
   "mimetype": "text/x-python",
   "name": "python",
   "nbconvert_exporter": "python",
   "pygments_lexer": "ipython3",
   "version": "3.7.9"
  }
 },
 "nbformat": 4,
 "nbformat_minor": 1
}
